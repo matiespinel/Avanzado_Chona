{
 "cells": [
  {
   "cell_type": "markdown",
   "metadata": {},
   "source": [
    "Consigna\n",
    "En grupos de 2 o 3 personas, realizar los siguientes ejercicios.\n",
    "\n",
    "1) Investigar y seleccionar un dataset que cumpla con tener entre 1000 y 10.000 muestras, 5 o más atributos numéricos y al menos un atributo categórico (Recomendación: seleccionar un atributo a predecir binario). De encontrar algún dataset sin atributos categóricos, ¿Como se podría generar uno binario a partir de los atributos numéricos? Se recomienda utilizar Kaggle para la búsqueda del dataset. Antes de avanzar con el trabajo práctico, corroborar el dataset en clase.\n",
    "\n",
    "2) Realizar un análisis exploratorio de los datos. Se recomienda utilizar gráficos para visualizar la distribución de los datos y la correlación entre los atributos. Se recomienda utilizar la librería seaborn para realizar los gráficos.\n",
    "\n",
    "3) Como resultado del análisis exploratorio, seleccionar un atributo categórico y un atributo numérico para realizar un modelo de clasificación. Se recomienda utilizar la función LabelEncoder de SciKit-Learn para convertir el atributo categórico a numérico.\n",
    "\n",
    "4)Realizar una partición de los datos en conjuntos de entrenamiento y test. La proporción con la cual hacen esta partición es libre. Se recomienda utilizar la función train_test_split de SciKit-Learn.\n",
    "\n",
    "Para el atributo numérico a predecir seleccionado:\n",
    "\n",
    "Realizar un modelo de regresión lineal utilizando la clase LinearRegression de SciKit-Learn.\n",
    "Realizar un modelo de Árbol de Decisión utilizando la clase DecisionTreeRegressor de SciKit-Learn. Seleccionar hiperparámetros que les parezca mejoren el modelo.\n",
    "Responder: ¿Que formas tienen de evaluar los resultados de cada árbol de decisión? ¿Como eligen \"el mejor árbol\"? ¿Como se comparan los resultados de los modelos de regresión lineal y de árbol de decisión?\n",
    "\n",
    "Sugerencia: Aprovechar los conceptos de validación y de validación cruzada para evaluar los modelos. Pueden utilizar la función cross_val_score de SciKit-Learn para evaluar los modelos.\n",
    "\n",
    "Se recomienda utilizar la función cross_val_score de SciKit-Learn para evaluar los modelos.\n",
    "\n",
    "Para el atributo categórico a predecir seleccionado\n",
    "Realizar un modelo de clasificación utilizando la clase LogisticRegression de SciKit-Learn.\n",
    "Realizar un modelo de clasificación utilizando la clase DecisionTreeClassifier de SciKit-Learn.\n",
    "Responder las mismas preguntas que en el punto 5 para este caso.\n",
    "\n",
    "Comparar distintos métodos de validación cruzada. ¿Que ventajas y desventajas tiene cada uno?\n",
    "\n",
    "Escribir una conclusión sobre el trabajo realizado.\n",
    "\n",
    "Bonus\n",
    "Investigar los métodos GridSearch y RandomSearch para la búsqueda de hiperparámetros. Utilizarlos para encontrar los mejores hiperparámetros para los modelos.\n",
    "\n",
    "Para ya sea el atributo categórico como para el numérico, elegir otro modelo de clasificación o regresión que no haya sido utilizado anteriormente. Entrenar el modelo y comparar los resultados con los obtenidos anteriormente.\n",
    "\n",
    "Formato de entrega\n",
    "El trabajo práctico se debe realizar en un notebook de Jupyter. El notebook debe estar subido a un repositorio de GitHub. El link al repositorio debe ser completado en el siguiente Google Form.\n",
    "\n",
    "Fecha de entrega\n",
    "El trabajo práctico se debe entregar hasta el 17/09/2023 a las 23:59hs."
   ]
  },
  {
   "cell_type": "code",
   "execution_count": 1,
   "metadata": {},
   "outputs": [],
   "source": [
    "import pandas as pd"
   ]
  },
  {
   "cell_type": "code",
   "execution_count": 2,
   "metadata": {},
   "outputs": [],
   "source": [
    "df = pd.read_csv('pelisDta.csv')"
   ]
  },
  {
   "cell_type": "code",
   "execution_count": 3,
   "metadata": {},
   "outputs": [
    {
     "data": {
      "text/html": [
       "<div>\n",
       "<style scoped>\n",
       "    .dataframe tbody tr th:only-of-type {\n",
       "        vertical-align: middle;\n",
       "    }\n",
       "\n",
       "    .dataframe tbody tr th {\n",
       "        vertical-align: top;\n",
       "    }\n",
       "\n",
       "    .dataframe thead th {\n",
       "        text-align: right;\n",
       "    }\n",
       "</style>\n",
       "<table border=\"1\" class=\"dataframe\">\n",
       "  <thead>\n",
       "    <tr style=\"text-align: right;\">\n",
       "      <th></th>\n",
       "      <th>Unnamed: 0</th>\n",
       "      <th>title</th>\n",
       "      <th>director</th>\n",
       "      <th>release_year</th>\n",
       "      <th>runtime</th>\n",
       "      <th>genre</th>\n",
       "      <th>rating</th>\n",
       "      <th>metascore</th>\n",
       "      <th>gross(M)</th>\n",
       "    </tr>\n",
       "  </thead>\n",
       "  <tbody>\n",
       "    <tr>\n",
       "      <th>0</th>\n",
       "      <td>0</td>\n",
       "      <td>The Shawshank Redemption</td>\n",
       "      <td>Frank Darabont</td>\n",
       "      <td>1994</td>\n",
       "      <td>142</td>\n",
       "      <td>Drama</td>\n",
       "      <td>9.3</td>\n",
       "      <td>82</td>\n",
       "      <td>28.34</td>\n",
       "    </tr>\n",
       "    <tr>\n",
       "      <th>1</th>\n",
       "      <td>1</td>\n",
       "      <td>The Godfather</td>\n",
       "      <td>Francis Ford Coppola</td>\n",
       "      <td>1972</td>\n",
       "      <td>175</td>\n",
       "      <td>Crime</td>\n",
       "      <td>9.2</td>\n",
       "      <td>100</td>\n",
       "      <td>134.97</td>\n",
       "    </tr>\n",
       "    <tr>\n",
       "      <th>2</th>\n",
       "      <td>1</td>\n",
       "      <td>The Godfather</td>\n",
       "      <td>Francis Ford Coppola</td>\n",
       "      <td>1972</td>\n",
       "      <td>175</td>\n",
       "      <td>Drama</td>\n",
       "      <td>9.2</td>\n",
       "      <td>100</td>\n",
       "      <td>134.97</td>\n",
       "    </tr>\n",
       "    <tr>\n",
       "      <th>3</th>\n",
       "      <td>2</td>\n",
       "      <td>The Dark Knight</td>\n",
       "      <td>Christopher Nolan</td>\n",
       "      <td>2008</td>\n",
       "      <td>152</td>\n",
       "      <td>Action</td>\n",
       "      <td>9.0</td>\n",
       "      <td>84</td>\n",
       "      <td>534.86</td>\n",
       "    </tr>\n",
       "    <tr>\n",
       "      <th>4</th>\n",
       "      <td>2</td>\n",
       "      <td>The Dark Knight</td>\n",
       "      <td>Christopher Nolan</td>\n",
       "      <td>2008</td>\n",
       "      <td>152</td>\n",
       "      <td>Crime</td>\n",
       "      <td>9.0</td>\n",
       "      <td>84</td>\n",
       "      <td>534.86</td>\n",
       "    </tr>\n",
       "    <tr>\n",
       "      <th>...</th>\n",
       "      <td>...</td>\n",
       "      <td>...</td>\n",
       "      <td>...</td>\n",
       "      <td>...</td>\n",
       "      <td>...</td>\n",
       "      <td>...</td>\n",
       "      <td>...</td>\n",
       "      <td>...</td>\n",
       "      <td>...</td>\n",
       "    </tr>\n",
       "    <tr>\n",
       "      <th>2527</th>\n",
       "      <td>998</td>\n",
       "      <td>The Invisible Man</td>\n",
       "      <td>James Whale</td>\n",
       "      <td>1933</td>\n",
       "      <td>71</td>\n",
       "      <td>Horror</td>\n",
       "      <td>7.6</td>\n",
       "      <td>87</td>\n",
       "      <td>0.00</td>\n",
       "    </tr>\n",
       "    <tr>\n",
       "      <th>2528</th>\n",
       "      <td>998</td>\n",
       "      <td>The Invisible Man</td>\n",
       "      <td>James Whale</td>\n",
       "      <td>1933</td>\n",
       "      <td>71</td>\n",
       "      <td>Sci-Fi</td>\n",
       "      <td>7.6</td>\n",
       "      <td>87</td>\n",
       "      <td>0.00</td>\n",
       "    </tr>\n",
       "    <tr>\n",
       "      <th>2529</th>\n",
       "      <td>999</td>\n",
       "      <td>Cell 211</td>\n",
       "      <td>Daniel Monzón</td>\n",
       "      <td>2009</td>\n",
       "      <td>113</td>\n",
       "      <td>Action</td>\n",
       "      <td>7.6</td>\n",
       "      <td>0</td>\n",
       "      <td>0.00</td>\n",
       "    </tr>\n",
       "    <tr>\n",
       "      <th>2530</th>\n",
       "      <td>999</td>\n",
       "      <td>Cell 211</td>\n",
       "      <td>Daniel Monzón</td>\n",
       "      <td>2009</td>\n",
       "      <td>113</td>\n",
       "      <td>Crime</td>\n",
       "      <td>7.6</td>\n",
       "      <td>0</td>\n",
       "      <td>0.00</td>\n",
       "    </tr>\n",
       "    <tr>\n",
       "      <th>2531</th>\n",
       "      <td>999</td>\n",
       "      <td>Cell 211</td>\n",
       "      <td>Daniel Monzón</td>\n",
       "      <td>2009</td>\n",
       "      <td>113</td>\n",
       "      <td>Drama</td>\n",
       "      <td>7.6</td>\n",
       "      <td>0</td>\n",
       "      <td>0.00</td>\n",
       "    </tr>\n",
       "  </tbody>\n",
       "</table>\n",
       "<p>2532 rows × 9 columns</p>\n",
       "</div>"
      ],
      "text/plain": [
       "      Unnamed: 0                     title              director  \\\n",
       "0              0  The Shawshank Redemption        Frank Darabont   \n",
       "1              1             The Godfather  Francis Ford Coppola   \n",
       "2              1             The Godfather  Francis Ford Coppola   \n",
       "3              2           The Dark Knight     Christopher Nolan   \n",
       "4              2           The Dark Knight     Christopher Nolan   \n",
       "...          ...                       ...                   ...   \n",
       "2527         998         The Invisible Man           James Whale   \n",
       "2528         998         The Invisible Man           James Whale   \n",
       "2529         999                  Cell 211         Daniel Monzón   \n",
       "2530         999                  Cell 211         Daniel Monzón   \n",
       "2531         999                  Cell 211         Daniel Monzón   \n",
       "\n",
       "      release_year  runtime   genre  rating  metascore  gross(M)  \n",
       "0             1994      142   Drama     9.3         82     28.34  \n",
       "1             1972      175   Crime     9.2        100    134.97  \n",
       "2             1972      175   Drama     9.2        100    134.97  \n",
       "3             2008      152  Action     9.0         84    534.86  \n",
       "4             2008      152   Crime     9.0         84    534.86  \n",
       "...            ...      ...     ...     ...        ...       ...  \n",
       "2527          1933       71  Horror     7.6         87      0.00  \n",
       "2528          1933       71  Sci-Fi     7.6         87      0.00  \n",
       "2529          2009      113  Action     7.6          0      0.00  \n",
       "2530          2009      113   Crime     7.6          0      0.00  \n",
       "2531          2009      113   Drama     7.6          0      0.00  \n",
       "\n",
       "[2532 rows x 9 columns]"
      ]
     },
     "execution_count": 3,
     "metadata": {},
     "output_type": "execute_result"
    }
   ],
   "source": [
    "df"
   ]
  },
  {
   "cell_type": "code",
   "execution_count": 4,
   "metadata": {},
   "outputs": [],
   "source": [
    "import seaborn as sns"
   ]
  },
  {
   "cell_type": "code",
   "execution_count": 5,
   "metadata": {},
   "outputs": [],
   "source": [
    "import numpy as np"
   ]
  },
  {
   "cell_type": "code",
   "execution_count": 6,
   "metadata": {},
   "outputs": [],
   "source": [
    "import matplotlib.pyplot as plt"
   ]
  },
  {
   "cell_type": "code",
   "execution_count": 7,
   "metadata": {},
   "outputs": [],
   "source": [
    "sns.set_theme(style = 'whitegrid')"
   ]
  },
  {
   "cell_type": "code",
   "execution_count": 8,
   "metadata": {},
   "outputs": [
    {
     "name": "stderr",
     "output_type": "stream",
     "text": [
      "c:\\Python310\\lib\\site-packages\\seaborn\\_oldcore.py:1498: FutureWarning: is_categorical_dtype is deprecated and will be removed in a future version. Use isinstance(dtype, CategoricalDtype) instead\n",
      "  if pd.api.types.is_categorical_dtype(vector):\n",
      "c:\\Python310\\lib\\site-packages\\seaborn\\_oldcore.py:1498: FutureWarning: is_categorical_dtype is deprecated and will be removed in a future version. Use isinstance(dtype, CategoricalDtype) instead\n",
      "  if pd.api.types.is_categorical_dtype(vector):\n"
     ]
    },
    {
     "data": {
      "text/plain": [
       "<Axes: xlabel='gross(M)', ylabel='rating'>"
      ]
     },
     "execution_count": 8,
     "metadata": {},
     "output_type": "execute_result"
    },
    {
     "data": {
      "image/png": "[encoded data removed]",
      "text/plain": [
       "<Figure size 640x480 with 1 Axes>"
      ]
     },
     "metadata": {},
     "output_type": "display_data"
    }
   ],
   "source": [
    "\n",
    "sns.scatterplot(data = df, x = 'gross(M)', y = 'rating' )"
   ]
  },
  {
   "cell_type": "code",
   "execution_count": 9,
   "metadata": {},
   "outputs": [
    {
     "name": "stderr",
     "output_type": "stream",
     "text": [
      "c:\\Python310\\lib\\site-packages\\seaborn\\_oldcore.py:1498: FutureWarning: is_categorical_dtype is deprecated and will be removed in a future version. Use isinstance(dtype, CategoricalDtype) instead\n",
      "  if pd.api.types.is_categorical_dtype(vector):\n",
      "c:\\Python310\\lib\\site-packages\\seaborn\\_oldcore.py:1119: FutureWarning: use_inf_as_na option is deprecated and will be removed in a future version. Convert inf values to NaN before operating instead.\n",
      "  with pd.option_context('mode.use_inf_as_na', True):\n"
     ]
    },
    {
     "data": {
      "text/plain": [
       "<Axes: xlabel='metascore', ylabel='Count'>"
      ]
     },
     "execution_count": 9,
     "metadata": {},
     "output_type": "execute_result"
    },
    {
     "data": {
      "image/png": "[encoded data removed]",
      "text/plain": [
       "<Figure size 640x480 with 1 Axes>"
      ]
     },
     "metadata": {},
     "output_type": "display_data"
    }
   ],
   "source": [
    "sns.histplot(data = df, x = 'metascore')"
   ]
  },
  {
   "cell_type": "code",
   "execution_count": 10,
   "metadata": {},
   "outputs": [
    {
     "name": "stderr",
     "output_type": "stream",
     "text": [
      "c:\\Python310\\lib\\site-packages\\seaborn\\_oldcore.py:1498: FutureWarning: is_categorical_dtype is deprecated and will be removed in a future version. Use isinstance(dtype, CategoricalDtype) instead\n",
      "  if pd.api.types.is_categorical_dtype(vector):\n",
      "c:\\Python310\\lib\\site-packages\\seaborn\\_oldcore.py:1119: FutureWarning: use_inf_as_na option is deprecated and will be removed in a future version. Convert inf values to NaN before operating instead.\n",
      "  with pd.option_context('mode.use_inf_as_na', True):\n"
     ]
    },
    {
     "data": {
      "text/plain": [
       "<Axes: xlabel='release_year', ylabel='Count'>"
      ]
     },
     "execution_count": 10,
     "metadata": {},
     "output_type": "execute_result"
    },
    {
     "data": {
      "image/png": "[encoded data removed]",
      "text/plain": [
       "<Figure size 640x480 with 1 Axes>"
      ]
     },
     "metadata": {},
     "output_type": "display_data"
    }
   ],
   "source": [
    "sns.histplot(data = df, x = 'release_year')"
   ]
  },
  {
   "cell_type": "code",
   "execution_count": 11,
   "metadata": {},
   "outputs": [
    {
     "name": "stderr",
     "output_type": "stream",
     "text": [
      "c:\\Python310\\lib\\site-packages\\seaborn\\_oldcore.py:1498: FutureWarning: is_categorical_dtype is deprecated and will be removed in a future version. Use isinstance(dtype, CategoricalDtype) instead\n",
      "  if pd.api.types.is_categorical_dtype(vector):\n",
      "c:\\Python310\\lib\\site-packages\\seaborn\\_oldcore.py:1119: FutureWarning: use_inf_as_na option is deprecated and will be removed in a future version. Convert inf values to NaN before operating instead.\n",
      "  with pd.option_context('mode.use_inf_as_na', True):\n"
     ]
    },
    {
     "data": {
      "text/plain": [
       "<Axes: xlabel='rating', ylabel='Count'>"
      ]
     },
     "execution_count": 11,
     "metadata": {},
     "output_type": "execute_result"
    },
    {
     "data": {
      "image/png": "[encoded data removed]",
      "text/plain": [
       "<Figure size 640x480 with 1 Axes>"
      ]
     },
     "metadata": {},
     "output_type": "display_data"
    }
   ],
   "source": [
    "sns.histplot(data = df, x = 'rating')"
   ]
  },
  {
   "cell_type": "code",
   "execution_count": 12,
   "metadata": {},
   "outputs": [
    {
     "data": {
      "text/plain": [
       "array(['Drama', 'Crime', 'Action', 'Biography', 'History', 'Adventure',\n",
       "       'Animation', 'Sci-Fi', 'Romance', 'Western', 'Mystery', 'Comedy',\n",
       "       'Fantasy', 'War', 'Thriller', 'Family', 'Horror', 'Music',\n",
       "       'Film-Noir', 'Musical', 'Sport'], dtype=object)"
      ]
     },
     "execution_count": 12,
     "metadata": {},
     "output_type": "execute_result"
    }
   ],
   "source": [
    "#CUANTOS GENEROS DE PELICULAS HAY?\n",
    "df['genre'].unique()"
   ]
  },
  {
   "cell_type": "markdown",
   "metadata": {},
   "source": [
    "Atributo Numerico elegido: Run time o Gross(M)(esto es cuanta ganancia genero)\n",
    "Atributo Categorico elegido: Genero"
   ]
  },
  {
   "cell_type": "code",
   "execution_count": 14,
   "metadata": {},
   "outputs": [],
   "source": [
    "from sklearn import datasets, linear_model, model_selection"
   ]
  },
  {
   "cell_type": "code",
   "execution_count": 15,
   "metadata": {},
   "outputs": [],
   "source": [
    "model = linear_model.LinearRegression()"
   ]
  },
  {
   "cell_type": "code",
   "execution_count": 16,
   "metadata": {},
   "outputs": [],
   "source": [
    "from sklearn.model_selection import train_test_split\n",
    "train, test = train_test_split(df, test_size = 0.4, random_state = 42)"
   ]
  },
  {
   "cell_type": "code",
   "execution_count": 17,
   "metadata": {},
   "outputs": [
    {
     "data": {
      "text/html": [
       "<div>\n",
       "<style scoped>\n",
       "    .dataframe tbody tr th:only-of-type {\n",
       "        vertical-align: middle;\n",
       "    }\n",
       "\n",
       "    .dataframe tbody tr th {\n",
       "        vertical-align: top;\n",
       "    }\n",
       "\n",
       "    .dataframe thead th {\n",
       "        text-align: right;\n",
       "    }\n",
       "</style>\n",
       "<table border=\"1\" class=\"dataframe\">\n",
       "  <thead>\n",
       "    <tr style=\"text-align: right;\">\n",
       "      <th></th>\n",
       "      <th>Unnamed: 0</th>\n",
       "      <th>title</th>\n",
       "      <th>director</th>\n",
       "      <th>release_year</th>\n",
       "      <th>runtime</th>\n",
       "      <th>genre</th>\n",
       "      <th>rating</th>\n",
       "      <th>metascore</th>\n",
       "      <th>gross(M)</th>\n",
       "    </tr>\n",
       "  </thead>\n",
       "  <tbody>\n",
       "    <tr>\n",
       "      <th>2145</th>\n",
       "      <td>850</td>\n",
       "      <td>The Great Beauty</td>\n",
       "      <td>Paolo Sorrentino</td>\n",
       "      <td>2013</td>\n",
       "      <td>141</td>\n",
       "      <td>Drama</td>\n",
       "      <td>7.7</td>\n",
       "      <td>86</td>\n",
       "      <td>2.85</td>\n",
       "    </tr>\n",
       "    <tr>\n",
       "      <th>1647</th>\n",
       "      <td>651</td>\n",
       "      <td>Captain Fantastic</td>\n",
       "      <td>Matt Ross</td>\n",
       "      <td>2016</td>\n",
       "      <td>118</td>\n",
       "      <td>Comedy</td>\n",
       "      <td>7.8</td>\n",
       "      <td>72</td>\n",
       "      <td>5.88</td>\n",
       "    </tr>\n",
       "    <tr>\n",
       "      <th>436</th>\n",
       "      <td>171</td>\n",
       "      <td>Monty Python and the Holy Grail</td>\n",
       "      <td>Terry Gilliam</td>\n",
       "      <td>1975</td>\n",
       "      <td>91</td>\n",
       "      <td>Fantasy</td>\n",
       "      <td>8.2</td>\n",
       "      <td>91</td>\n",
       "      <td>1.23</td>\n",
       "    </tr>\n",
       "    <tr>\n",
       "      <th>1033</th>\n",
       "      <td>411</td>\n",
       "      <td>The Legend of 1900</td>\n",
       "      <td>Giuseppe Tornatore</td>\n",
       "      <td>1998</td>\n",
       "      <td>169</td>\n",
       "      <td>Drama</td>\n",
       "      <td>8.0</td>\n",
       "      <td>58</td>\n",
       "      <td>0.26</td>\n",
       "    </tr>\n",
       "    <tr>\n",
       "      <th>2249</th>\n",
       "      <td>890</td>\n",
       "      <td>A Man for All Seasons</td>\n",
       "      <td>Fred Zinnemann</td>\n",
       "      <td>1966</td>\n",
       "      <td>120</td>\n",
       "      <td>Drama</td>\n",
       "      <td>7.7</td>\n",
       "      <td>72</td>\n",
       "      <td>28.35</td>\n",
       "    </tr>\n",
       "    <tr>\n",
       "      <th>...</th>\n",
       "      <td>...</td>\n",
       "      <td>...</td>\n",
       "      <td>...</td>\n",
       "      <td>...</td>\n",
       "      <td>...</td>\n",
       "      <td>...</td>\n",
       "      <td>...</td>\n",
       "      <td>...</td>\n",
       "      <td>...</td>\n",
       "    </tr>\n",
       "    <tr>\n",
       "      <th>1638</th>\n",
       "      <td>647</td>\n",
       "      <td>Captain America: The Winter Soldier</td>\n",
       "      <td>Anthony Russo</td>\n",
       "      <td>2014</td>\n",
       "      <td>136</td>\n",
       "      <td>Adventure</td>\n",
       "      <td>7.8</td>\n",
       "      <td>70</td>\n",
       "      <td>259.77</td>\n",
       "    </tr>\n",
       "    <tr>\n",
       "      <th>1095</th>\n",
       "      <td>436</td>\n",
       "      <td>Secrets &amp; Lies</td>\n",
       "      <td>Mike Leigh</td>\n",
       "      <td>1996</td>\n",
       "      <td>136</td>\n",
       "      <td>Drama</td>\n",
       "      <td>8.0</td>\n",
       "      <td>91</td>\n",
       "      <td>13.42</td>\n",
       "    </tr>\n",
       "    <tr>\n",
       "      <th>1130</th>\n",
       "      <td>453</td>\n",
       "      <td>Ivan's Childhood</td>\n",
       "      <td>Andrei Tarkovsky</td>\n",
       "      <td>1962</td>\n",
       "      <td>95</td>\n",
       "      <td>War</td>\n",
       "      <td>8.0</td>\n",
       "      <td>0</td>\n",
       "      <td>0.00</td>\n",
       "    </tr>\n",
       "    <tr>\n",
       "      <th>1294</th>\n",
       "      <td>515</td>\n",
       "      <td>Bound by Honor</td>\n",
       "      <td>Taylor Hackford</td>\n",
       "      <td>1993</td>\n",
       "      <td>180</td>\n",
       "      <td>Crime</td>\n",
       "      <td>7.9</td>\n",
       "      <td>47</td>\n",
       "      <td>4.50</td>\n",
       "    </tr>\n",
       "    <tr>\n",
       "      <th>860</th>\n",
       "      <td>343</td>\n",
       "      <td>Dune</td>\n",
       "      <td>Denis Villeneuve</td>\n",
       "      <td>2021</td>\n",
       "      <td>155</td>\n",
       "      <td>Adventure</td>\n",
       "      <td>8.0</td>\n",
       "      <td>74</td>\n",
       "      <td>108.33</td>\n",
       "    </tr>\n",
       "  </tbody>\n",
       "</table>\n",
       "<p>1519 rows × 9 columns</p>\n",
       "</div>"
      ],
      "text/plain": [
       "      Unnamed: 0                                title            director  \\\n",
       "2145         850                     The Great Beauty    Paolo Sorrentino   \n",
       "1647         651                    Captain Fantastic           Matt Ross   \n",
       "436          171      Monty Python and the Holy Grail       Terry Gilliam   \n",
       "1033         411                   The Legend of 1900  Giuseppe Tornatore   \n",
       "2249         890                A Man for All Seasons      Fred Zinnemann   \n",
       "...          ...                                  ...                 ...   \n",
       "1638         647  Captain America: The Winter Soldier       Anthony Russo   \n",
       "1095         436                       Secrets & Lies          Mike Leigh   \n",
       "1130         453                     Ivan's Childhood    Andrei Tarkovsky   \n",
       "1294         515                       Bound by Honor     Taylor Hackford   \n",
       "860          343                                 Dune    Denis Villeneuve   \n",
       "\n",
       "      release_year  runtime      genre  rating  metascore  gross(M)  \n",
       "2145          2013      141      Drama     7.7         86      2.85  \n",
       "1647          2016      118     Comedy     7.8         72      5.88  \n",
       "436           1975       91    Fantasy     8.2         91      1.23  \n",
       "1033          1998      169      Drama     8.0         58      0.26  \n",
       "2249          1966      120      Drama     7.7         72     28.35  \n",
       "...            ...      ...        ...     ...        ...       ...  \n",
       "1638          2014      136  Adventure     7.8         70    259.77  \n",
       "1095          1996      136      Drama     8.0         91     13.42  \n",
       "1130          1962       95        War     8.0          0      0.00  \n",
       "1294          1993      180      Crime     7.9         47      4.50  \n",
       "860           2021      155  Adventure     8.0         74    108.33  \n",
       "\n",
       "[1519 rows x 9 columns]"
      ]
     },
     "execution_count": 17,
     "metadata": {},
     "output_type": "execute_result"
    }
   ],
   "source": [
    "train"
   ]
  },
  {
   "cell_type": "code",
   "execution_count": 18,
   "metadata": {},
   "outputs": [
    {
     "data": {
      "text/html": [
       "<div>\n",
       "<style scoped>\n",
       "    .dataframe tbody tr th:only-of-type {\n",
       "        vertical-align: middle;\n",
       "    }\n",
       "\n",
       "    .dataframe tbody tr th {\n",
       "        vertical-align: top;\n",
       "    }\n",
       "\n",
       "    .dataframe thead th {\n",
       "        text-align: right;\n",
       "    }\n",
       "</style>\n",
       "<table border=\"1\" class=\"dataframe\">\n",
       "  <thead>\n",
       "    <tr style=\"text-align: right;\">\n",
       "      <th></th>\n",
       "      <th>Unnamed: 0</th>\n",
       "      <th>title</th>\n",
       "      <th>director</th>\n",
       "      <th>release_year</th>\n",
       "      <th>runtime</th>\n",
       "      <th>genre</th>\n",
       "      <th>rating</th>\n",
       "      <th>metascore</th>\n",
       "      <th>gross(M)</th>\n",
       "    </tr>\n",
       "  </thead>\n",
       "  <tbody>\n",
       "    <tr>\n",
       "      <th>2309</th>\n",
       "      <td>917</td>\n",
       "      <td>The Breadwinner</td>\n",
       "      <td>Nora Twomey</td>\n",
       "      <td>2017</td>\n",
       "      <td>94</td>\n",
       "      <td>Drama</td>\n",
       "      <td>7.7</td>\n",
       "      <td>78</td>\n",
       "      <td>0.31</td>\n",
       "    </tr>\n",
       "    <tr>\n",
       "      <th>2057</th>\n",
       "      <td>814</td>\n",
       "      <td>The French Connection</td>\n",
       "      <td>William Friedkin</td>\n",
       "      <td>1971</td>\n",
       "      <td>104</td>\n",
       "      <td>Action</td>\n",
       "      <td>7.7</td>\n",
       "      <td>94</td>\n",
       "      <td>15.63</td>\n",
       "    </tr>\n",
       "    <tr>\n",
       "      <th>194</th>\n",
       "      <td>75</td>\n",
       "      <td>WALL·E</td>\n",
       "      <td>Andrew Stanton</td>\n",
       "      <td>2008</td>\n",
       "      <td>98</td>\n",
       "      <td>Adventure</td>\n",
       "      <td>8.4</td>\n",
       "      <td>95</td>\n",
       "      <td>223.81</td>\n",
       "    </tr>\n",
       "    <tr>\n",
       "      <th>1393</th>\n",
       "      <td>551</td>\n",
       "      <td>The Big Sleep</td>\n",
       "      <td>Howard Hawks</td>\n",
       "      <td>1946</td>\n",
       "      <td>114</td>\n",
       "      <td>Mystery</td>\n",
       "      <td>7.9</td>\n",
       "      <td>86</td>\n",
       "      <td>6.54</td>\n",
       "    </tr>\n",
       "    <tr>\n",
       "      <th>764</th>\n",
       "      <td>304</td>\n",
       "      <td>Dil Chahta Hai</td>\n",
       "      <td>Farhan Akhtar</td>\n",
       "      <td>2001</td>\n",
       "      <td>183</td>\n",
       "      <td>Comedy</td>\n",
       "      <td>8.1</td>\n",
       "      <td>0</td>\n",
       "      <td>0.30</td>\n",
       "    </tr>\n",
       "    <tr>\n",
       "      <th>...</th>\n",
       "      <td>...</td>\n",
       "      <td>...</td>\n",
       "      <td>...</td>\n",
       "      <td>...</td>\n",
       "      <td>...</td>\n",
       "      <td>...</td>\n",
       "      <td>...</td>\n",
       "      <td>...</td>\n",
       "      <td>...</td>\n",
       "    </tr>\n",
       "    <tr>\n",
       "      <th>2080</th>\n",
       "      <td>822</td>\n",
       "      <td>Empire of the Sun</td>\n",
       "      <td>Steven Spielberg</td>\n",
       "      <td>1987</td>\n",
       "      <td>153</td>\n",
       "      <td>War</td>\n",
       "      <td>7.7</td>\n",
       "      <td>62</td>\n",
       "      <td>22.24</td>\n",
       "    </tr>\n",
       "    <tr>\n",
       "      <th>257</th>\n",
       "      <td>102</td>\n",
       "      <td>2001: A Space Odyssey</td>\n",
       "      <td>Stanley Kubrick</td>\n",
       "      <td>1968</td>\n",
       "      <td>149</td>\n",
       "      <td>Adventure</td>\n",
       "      <td>8.3</td>\n",
       "      <td>84</td>\n",
       "      <td>56.95</td>\n",
       "    </tr>\n",
       "    <tr>\n",
       "      <th>1344</th>\n",
       "      <td>534</td>\n",
       "      <td>Sing Street</td>\n",
       "      <td>John Carney</td>\n",
       "      <td>2016</td>\n",
       "      <td>106</td>\n",
       "      <td>Drama</td>\n",
       "      <td>7.9</td>\n",
       "      <td>79</td>\n",
       "      <td>3.24</td>\n",
       "    </tr>\n",
       "    <tr>\n",
       "      <th>1875</th>\n",
       "      <td>739</td>\n",
       "      <td>Once Upon a Time in Anatolia</td>\n",
       "      <td>Nuri Bilge Ceylan</td>\n",
       "      <td>2011</td>\n",
       "      <td>157</td>\n",
       "      <td>Drama</td>\n",
       "      <td>7.8</td>\n",
       "      <td>82</td>\n",
       "      <td>0.14</td>\n",
       "    </tr>\n",
       "    <tr>\n",
       "      <th>926</th>\n",
       "      <td>368</td>\n",
       "      <td>Groundhog Day</td>\n",
       "      <td>Harold Ramis</td>\n",
       "      <td>1993</td>\n",
       "      <td>101</td>\n",
       "      <td>Fantasy</td>\n",
       "      <td>8.0</td>\n",
       "      <td>72</td>\n",
       "      <td>70.91</td>\n",
       "    </tr>\n",
       "  </tbody>\n",
       "</table>\n",
       "<p>1013 rows × 9 columns</p>\n",
       "</div>"
      ],
      "text/plain": [
       "      Unnamed: 0                         title           director  \\\n",
       "2309         917               The Breadwinner        Nora Twomey   \n",
       "2057         814         The French Connection   William Friedkin   \n",
       "194           75                        WALL·E     Andrew Stanton   \n",
       "1393         551                 The Big Sleep       Howard Hawks   \n",
       "764          304                Dil Chahta Hai      Farhan Akhtar   \n",
       "...          ...                           ...                ...   \n",
       "2080         822             Empire of the Sun   Steven Spielberg   \n",
       "257          102         2001: A Space Odyssey    Stanley Kubrick   \n",
       "1344         534                   Sing Street        John Carney   \n",
       "1875         739  Once Upon a Time in Anatolia  Nuri Bilge Ceylan   \n",
       "926          368                 Groundhog Day       Harold Ramis   \n",
       "\n",
       "      release_year  runtime      genre  rating  metascore  gross(M)  \n",
       "2309          2017       94      Drama     7.7         78      0.31  \n",
       "2057          1971      104     Action     7.7         94     15.63  \n",
       "194           2008       98  Adventure     8.4         95    223.81  \n",
       "1393          1946      114    Mystery     7.9         86      6.54  \n",
       "764           2001      183     Comedy     8.1          0      0.30  \n",
       "...            ...      ...        ...     ...        ...       ...  \n",
       "2080          1987      153        War     7.7         62     22.24  \n",
       "257           1968      149  Adventure     8.3         84     56.95  \n",
       "1344          2016      106      Drama     7.9         79      3.24  \n",
       "1875          2011      157      Drama     7.8         82      0.14  \n",
       "926           1993      101    Fantasy     8.0         72     70.91  \n",
       "\n",
       "[1013 rows x 9 columns]"
      ]
     },
     "execution_count": 18,
     "metadata": {},
     "output_type": "execute_result"
    }
   ],
   "source": [
    "test"
   ]
  }
 ],
 "metadata": {
  "kernelspec": {
   "display_name": "Python 3",
   "language": "python",
   "name": "python3"
  },
  "language_info": {
   "codemirror_mode": {
    "name": "ipython",
    "version": 3
   },
   "file_extension": ".py",
   "mimetype": "text/x-python",
   "name": "python",
   "nbconvert_exporter": "python",
   "pygments_lexer": "ipython3",
   "version": "3.10.0"
  },
  "orig_nbformat": 4
 },
 "nbformat": 4,
 "nbformat_minor": 2
}
